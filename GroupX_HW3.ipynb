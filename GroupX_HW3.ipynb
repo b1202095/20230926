{
  "nbformat": 4,
  "nbformat_minor": 0,
  "metadata": {
    "colab": {
      "provenance": []
    },
    "kernelspec": {
      "name": "python3",
      "display_name": "Python 3"
    },
    "language_info": {
      "name": "python"
    }
  },
  "cells": [
    {
      "cell_type": "code",
      "execution_count": 1,
      "metadata": {
        "colab": {
          "base_uri": "https://localhost:8080/"
        },
        "id": "4p8FM-aiMeYu",
        "outputId": "23db64f6-c97a-40d1-a2e0-d47ed5c0bd78"
      },
      "outputs": [
        {
          "output_type": "stream",
          "name": "stdout",
          "text": [
            "I'm a student\n"
          ]
        }
      ],
      "source": [
        "a = \"I'm a student\"\n",
        "print(a)"
      ]
    },
    {
      "cell_type": "code",
      "source": [
        "a= int(input('請輸入x1='))\n",
        "b= int(input('請輸入x2='))\n",
        "c= int(input('請輸入y1='))\n",
        "d= int(input('請輸入y2='))\n",
        "a-=c\n",
        "b-=d\n",
        "print((a**2+b**2)**(1/2))"
      ],
      "metadata": {
        "colab": {
          "base_uri": "https://localhost:8080/"
        },
        "id": "L3JUn3N3Mwdk",
        "outputId": "131bdc77-c408-4faa-ca26-9afa4b392f9c"
      },
      "execution_count": 3,
      "outputs": [
        {
          "output_type": "stream",
          "name": "stdout",
          "text": [
            "請輸入x1=0\n",
            "請輸入x2=0\n",
            "請輸入y1=3\n",
            "請輸入y2=4\n",
            "5.0\n"
          ]
        }
      ]
    },
    {
      "cell_type": "code",
      "source": [
        "a=float(input('請輸入身高:'))\n",
        "b=float(input('請輸入體重:'))\n",
        "a/=100\n",
        "a**=2\n",
        "b/=a\n",
        "print((b<18.5)*1)"
      ],
      "metadata": {
        "colab": {
          "base_uri": "https://localhost:8080/"
        },
        "id": "ULHBQnDJNgoW",
        "outputId": "2094f239-29e0-49f1-8c8f-e4a3a960acc6"
      },
      "execution_count": 4,
      "outputs": [
        {
          "output_type": "stream",
          "name": "stdout",
          "text": [
            "請輸入身高:182\n",
            "請輸入體重:64\n",
            "0\n"
          ]
        }
      ]
    }
  ]
}